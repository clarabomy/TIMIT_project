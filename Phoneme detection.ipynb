{
 "cells": [
  {
   "cell_type": "code",
   "execution_count": 15,
   "metadata": {},
   "outputs": [
    {
     "name": "stdout",
     "output_type": "stream",
     "text": [
      "Phonemes:  ['SIL', 'SH', 'IH', 'EY', 'AE', 'D', 'Y', 'R', 'IH', 'G', 'EH', 'R', 'K', 'S', 'IH', 'UW', 'IH', 'D', 'IH', 'NG', 'K', 'R', 'IY', 'Z', 'IY', 'W', 'AY', 'SH', 'CH', 'F', 'W', 'AY', 'D', 'ER', 'AA', 'AY', 'K', 'Y', 'ER', 'HH', '+NSN+']\n"
     ]
    }
   ],
   "source": [
    "from os import environ, path\n",
    "\n",
    "from pocketsphinx.pocketsphinx import *\n",
    "from sphinxbase.sphinxbase import *\n",
    "\n",
    "MODELDIR = \"model\"\n",
    "DATADIR = \"\"\n",
    "\n",
    "# Create a decoder with certain model\n",
    "config = Decoder.default_config()\n",
    "config.set_string('-hmm', path.join(MODELDIR, 'en-us/en-us'))\n",
    "config.set_string('-allphone', path.join(MODELDIR, 'en-us/en-us-phone.lm.dmp'))\n",
    "config.set_float('-lw', 2.0)\n",
    "config.set_float('-beam', 1e-10)\n",
    "config.set_float('-pbeam', 1e-10)\n",
    "\n",
    "# Decode streaming data.\n",
    "decoder = Decoder(config)\n",
    "\n",
    "decoder.start_utt()\n",
    "stream = open(path.join(DATADIR, 'SA1.wav'), 'rb')\n",
    "while True:\n",
    "  buf = stream.read(1024)\n",
    "  if buf:\n",
    "    decoder.process_raw(buf, False, False)\n",
    "  else:\n",
    "    break\n",
    "decoder.end_utt()\n",
    "\n",
    "hypothesis = decoder.hyp()\n",
    "print ('Phonemes: ', [seg.word for seg in decoder.seg()])"
   ]
  },
  {
   "cell_type": "code",
   "execution_count": 14,
   "metadata": {},
   "outputs": [
    {
     "data": {
      "text/plain": [
       "'she had your dark suit in greasy Wash Water all year'"
      ]
     },
     "execution_count": 14,
     "metadata": {},
     "output_type": "execute_result"
    }
   ],
   "source": [
    "import speech_recognition as sr\n",
    "\n",
    "test = sr.AudioFile('SA1.wav')\n",
    "r = sr.Recognizer()\n",
    "\n",
    "with test as source:\n",
    "    audio = r.record(source)\n",
    "\n",
    "r.recognize_google(audio)"
   ]
  },
  {
   "cell_type": "code",
   "execution_count": null,
   "metadata": {},
   "outputs": [],
   "source": []
  },
  {
   "cell_type": "code",
   "execution_count": null,
   "metadata": {},
   "outputs": [],
   "source": []
  }
 ],
 "metadata": {
  "kernelspec": {
   "display_name": "Python 3",
   "language": "python",
   "name": "python3"
  },
  "language_info": {
   "codemirror_mode": {
    "name": "ipython",
    "version": 3
   },
   "file_extension": ".py",
   "mimetype": "text/x-python",
   "name": "python",
   "nbconvert_exporter": "python",
   "pygments_lexer": "ipython3",
   "version": "3.6.6"
  }
 },
 "nbformat": 4,
 "nbformat_minor": 2
}
