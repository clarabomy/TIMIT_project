{
 "cells": [
  {
   "cell_type": "markdown",
   "metadata": {},
   "source": [
    "# Ethnicity classification on the TIMIT Dataset"
   ]
  },
  {
   "cell_type": "markdown",
   "metadata": {},
   "source": [
    "In this notebook, we will try to extract the MFCC features from the audio files of the TIMIT dataset in order to predict the ethnicity of speakers."
   ]
  },
  {
   "cell_type": "markdown",
   "metadata": {},
   "source": [
    "# Importing useful libraries"
   ]
  },
  {
   "cell_type": "code",
   "execution_count": 1,
   "metadata": {},
   "outputs": [
    {
     "name": "stdout",
     "output_type": "stream",
     "text": [
      "utils.py correctly charged\n"
     ]
    }
   ],
   "source": [
    "import pandas as pd\n",
    "import numpy as np\n",
    "from matplotlib import pyplot as plt\n",
    "import seaborn as sns\n",
    "import librosa as lr\n",
    "import matplotlib.pyplot as plt\n",
    "import pylab\n",
    "import librosa.display\n",
    "import importlib\n",
    "import utils  #utils contains all the functions we have created or inspired from\n",
    "\n",
    "from sklearn.metrics import accuracy_score, confusion_matrix, classification_report"
   ]
  },
  {
   "cell_type": "markdown",
   "metadata": {},
   "source": [
    "# Recovery of data as dataframes"
   ]
  },
  {
   "cell_type": "markdown",
   "metadata": {},
   "source": [
    "We have retrieved the data contained in the files train.csv and test.csv. We load this data as dataframes with the pandas library."
   ]
  },
  {
   "cell_type": "code",
   "execution_count": 12,
   "metadata": {},
   "outputs": [],
   "source": [
    "df_train = pd.read_csv(\"train.csv\", \"|\")\n",
    "df_test = pd.read_csv(\"test.csv\", \"|\")"
   ]
  },
  {
   "cell_type": "markdown",
   "metadata": {},
   "source": [
    "We verify that the dataframes have been correctly loaded."
   ]
  },
  {
   "cell_type": "code",
   "execution_count": 13,
   "metadata": {},
   "outputs": [
    {
     "data": {
      "text/html": [
       "<div>\n",
       "<style scoped>\n",
       "    .dataframe tbody tr th:only-of-type {\n",
       "        vertical-align: middle;\n",
       "    }\n",
       "\n",
       "    .dataframe tbody tr th {\n",
       "        vertical-align: top;\n",
       "    }\n",
       "\n",
       "    .dataframe thead th {\n",
       "        text-align: right;\n",
       "    }\n",
       "</style>\n",
       "<table border=\"1\" class=\"dataframe\">\n",
       "  <thead>\n",
       "    <tr style=\"text-align: right;\">\n",
       "      <th></th>\n",
       "      <th>soundName</th>\n",
       "      <th>personName</th>\n",
       "      <th>TRN/TST</th>\n",
       "      <th>soundPath</th>\n",
       "      <th>wrdPath</th>\n",
       "      <th>phnPath</th>\n",
       "      <th>txtPath</th>\n",
       "      <th>gender</th>\n",
       "      <th>region</th>\n",
       "      <th>age</th>\n",
       "      <th>recordDate</th>\n",
       "      <th>birthDate</th>\n",
       "      <th>height</th>\n",
       "      <th>race</th>\n",
       "      <th>education</th>\n",
       "      <th>prompt</th>\n",
       "      <th>start</th>\n",
       "      <th>end</th>\n",
       "    </tr>\n",
       "  </thead>\n",
       "  <tbody>\n",
       "    <tr>\n",
       "      <th>0</th>\n",
       "      <td>sa1</td>\n",
       "      <td>ABC0</td>\n",
       "      <td>TRN</td>\n",
       "      <td>TIMIT/TRAIN/DR6/MABC0/SA1.wav</td>\n",
       "      <td>TIMIT/TRAIN/DR6/MABC0/SA1.wrd</td>\n",
       "      <td>TIMIT/TRAIN/DR6/MABC0/SA1.phn</td>\n",
       "      <td>TIMIT/TRAIN/DR6/MABC0/SA1.txt</td>\n",
       "      <td>M</td>\n",
       "      <td>New York City</td>\n",
       "      <td>25</td>\n",
       "      <td>03/03/86</td>\n",
       "      <td>06/17/60</td>\n",
       "      <td>180.34</td>\n",
       "      <td>WHT</td>\n",
       "      <td>BS</td>\n",
       "      <td>She had your dark suit in greasy wash water all</td>\n",
       "      <td>0</td>\n",
       "      <td>43418</td>\n",
       "    </tr>\n",
       "    <tr>\n",
       "      <th>1</th>\n",
       "      <td>sa2</td>\n",
       "      <td>ABC0</td>\n",
       "      <td>TRN</td>\n",
       "      <td>TIMIT/TRAIN/DR6/MABC0/SA2.wav</td>\n",
       "      <td>TIMIT/TRAIN/DR6/MABC0/SA2.wrd</td>\n",
       "      <td>TIMIT/TRAIN/DR6/MABC0/SA2.phn</td>\n",
       "      <td>TIMIT/TRAIN/DR6/MABC0/SA2.txt</td>\n",
       "      <td>M</td>\n",
       "      <td>New York City</td>\n",
       "      <td>25</td>\n",
       "      <td>03/03/86</td>\n",
       "      <td>06/17/60</td>\n",
       "      <td>180.34</td>\n",
       "      <td>WHT</td>\n",
       "      <td>BS</td>\n",
       "      <td>Don't ask me to carry an oily rag like</td>\n",
       "      <td>0</td>\n",
       "      <td>35840</td>\n",
       "    </tr>\n",
       "    <tr>\n",
       "      <th>2</th>\n",
       "      <td>sx331</td>\n",
       "      <td>ABC0</td>\n",
       "      <td>TRN</td>\n",
       "      <td>TIMIT/TRAIN/DR6/MABC0/SX331.wav</td>\n",
       "      <td>TIMIT/TRAIN/DR6/MABC0/SX331.wrd</td>\n",
       "      <td>TIMIT/TRAIN/DR6/MABC0/SX331.phn</td>\n",
       "      <td>TIMIT/TRAIN/DR6/MABC0/SX331.txt</td>\n",
       "      <td>M</td>\n",
       "      <td>New York City</td>\n",
       "      <td>25</td>\n",
       "      <td>03/03/86</td>\n",
       "      <td>06/17/60</td>\n",
       "      <td>180.34</td>\n",
       "      <td>WHT</td>\n",
       "      <td>BS</td>\n",
       "      <td>The big dog loved to chew on the old rag</td>\n",
       "      <td>0</td>\n",
       "      <td>39322</td>\n",
       "    </tr>\n",
       "    <tr>\n",
       "      <th>3</th>\n",
       "      <td>sx61</td>\n",
       "      <td>ABC0</td>\n",
       "      <td>TRN</td>\n",
       "      <td>TIMIT/TRAIN/DR6/MABC0/SX61.wav</td>\n",
       "      <td>TIMIT/TRAIN/DR6/MABC0/SX61.wrd</td>\n",
       "      <td>TIMIT/TRAIN/DR6/MABC0/SX61.phn</td>\n",
       "      <td>TIMIT/TRAIN/DR6/MABC0/SX61.txt</td>\n",
       "      <td>M</td>\n",
       "      <td>New York City</td>\n",
       "      <td>25</td>\n",
       "      <td>03/03/86</td>\n",
       "      <td>06/17/60</td>\n",
       "      <td>180.34</td>\n",
       "      <td>WHT</td>\n",
       "      <td>BS</td>\n",
       "      <td>Chocolate and roses never fail as a romantic</td>\n",
       "      <td>0</td>\n",
       "      <td>39936</td>\n",
       "    </tr>\n",
       "    <tr>\n",
       "      <th>4</th>\n",
       "      <td>sx241</td>\n",
       "      <td>ABC0</td>\n",
       "      <td>TRN</td>\n",
       "      <td>TIMIT/TRAIN/DR6/MABC0/SX241.wav</td>\n",
       "      <td>TIMIT/TRAIN/DR6/MABC0/SX241.wrd</td>\n",
       "      <td>TIMIT/TRAIN/DR6/MABC0/SX241.phn</td>\n",
       "      <td>TIMIT/TRAIN/DR6/MABC0/SX241.txt</td>\n",
       "      <td>M</td>\n",
       "      <td>New York City</td>\n",
       "      <td>25</td>\n",
       "      <td>03/03/86</td>\n",
       "      <td>06/17/60</td>\n",
       "      <td>180.34</td>\n",
       "      <td>WHT</td>\n",
       "      <td>BS</td>\n",
       "      <td>The hallway opens into a huge</td>\n",
       "      <td>0</td>\n",
       "      <td>31949</td>\n",
       "    </tr>\n",
       "  </tbody>\n",
       "</table>\n",
       "</div>"
      ],
      "text/plain": [
       "  soundName personName TRN/TST                        soundPath  \\\n",
       "0       sa1       ABC0     TRN    TIMIT/TRAIN/DR6/MABC0/SA1.wav   \n",
       "1       sa2       ABC0     TRN    TIMIT/TRAIN/DR6/MABC0/SA2.wav   \n",
       "2     sx331       ABC0     TRN  TIMIT/TRAIN/DR6/MABC0/SX331.wav   \n",
       "3      sx61       ABC0     TRN   TIMIT/TRAIN/DR6/MABC0/SX61.wav   \n",
       "4     sx241       ABC0     TRN  TIMIT/TRAIN/DR6/MABC0/SX241.wav   \n",
       "\n",
       "                           wrdPath                          phnPath  \\\n",
       "0    TIMIT/TRAIN/DR6/MABC0/SA1.wrd    TIMIT/TRAIN/DR6/MABC0/SA1.phn   \n",
       "1    TIMIT/TRAIN/DR6/MABC0/SA2.wrd    TIMIT/TRAIN/DR6/MABC0/SA2.phn   \n",
       "2  TIMIT/TRAIN/DR6/MABC0/SX331.wrd  TIMIT/TRAIN/DR6/MABC0/SX331.phn   \n",
       "3   TIMIT/TRAIN/DR6/MABC0/SX61.wrd   TIMIT/TRAIN/DR6/MABC0/SX61.phn   \n",
       "4  TIMIT/TRAIN/DR6/MABC0/SX241.wrd  TIMIT/TRAIN/DR6/MABC0/SX241.phn   \n",
       "\n",
       "                           txtPath gender         region  age recordDate  \\\n",
       "0    TIMIT/TRAIN/DR6/MABC0/SA1.txt      M  New York City   25   03/03/86   \n",
       "1    TIMIT/TRAIN/DR6/MABC0/SA2.txt      M  New York City   25   03/03/86   \n",
       "2  TIMIT/TRAIN/DR6/MABC0/SX331.txt      M  New York City   25   03/03/86   \n",
       "3   TIMIT/TRAIN/DR6/MABC0/SX61.txt      M  New York City   25   03/03/86   \n",
       "4  TIMIT/TRAIN/DR6/MABC0/SX241.txt      M  New York City   25   03/03/86   \n",
       "\n",
       "  birthDate  height race education  \\\n",
       "0  06/17/60  180.34  WHT       BS    \n",
       "1  06/17/60  180.34  WHT       BS    \n",
       "2  06/17/60  180.34  WHT       BS    \n",
       "3  06/17/60  180.34  WHT       BS    \n",
       "4  06/17/60  180.34  WHT       BS    \n",
       "\n",
       "                                            prompt  start    end  \n",
       "0  She had your dark suit in greasy wash water all      0  43418  \n",
       "1           Don't ask me to carry an oily rag like      0  35840  \n",
       "2         The big dog loved to chew on the old rag      0  39322  \n",
       "3     Chocolate and roses never fail as a romantic      0  39936  \n",
       "4                    The hallway opens into a huge      0  31949  "
      ]
     },
     "execution_count": 13,
     "metadata": {},
     "output_type": "execute_result"
    }
   ],
   "source": [
    "df_train.head()"
   ]
  },
  {
   "cell_type": "markdown",
   "metadata": {},
   "source": [
    "# Data visualization"
   ]
  },
  {
   "cell_type": "markdown",
   "metadata": {},
   "source": [
    "Then, we check that the data to be classified is correctly balanced."
   ]
  },
  {
   "cell_type": "code",
   "execution_count": 14,
   "metadata": {},
   "outputs": [
    {
     "name": "stdout",
     "output_type": "stream",
     "text": [
      "Shape of training data :  (4620, 18)\n",
      "Shape of testing data  :  (1680, 18)\n"
     ]
    }
   ],
   "source": [
    "print(\"Shape of training data : \", df_train.shape)\n",
    "print(\"Shape of testing data  : \", df_test.shape)"
   ]
  },
  {
   "cell_type": "markdown",
   "metadata": {},
   "source": [
    "We delete all columns of dataframes that are not useful for classification"
   ]
  },
  {
   "cell_type": "code",
   "execution_count": 15,
   "metadata": {},
   "outputs": [],
   "source": [
    "df_train = df_train.drop(['personName','soundName','txtPath','phnPath','wrdPath','TRN/TST','age','recordDate','birthDate','height','region','gender','education','prompt','start','end'], axis = 1)\n",
    "df_test = df_test.drop(['personName','soundName','txtPath','phnPath','wrdPath','TRN/TST','age','recordDate','birthDate','height','region','gender','education','prompt','start','end'], axis = 1)"
   ]
  },
  {
   "cell_type": "code",
   "execution_count": 6,
   "metadata": {},
   "outputs": [
    {
     "data": {
      "text/html": [
       "<div>\n",
       "<style scoped>\n",
       "    .dataframe tbody tr th:only-of-type {\n",
       "        vertical-align: middle;\n",
       "    }\n",
       "\n",
       "    .dataframe tbody tr th {\n",
       "        vertical-align: top;\n",
       "    }\n",
       "\n",
       "    .dataframe thead th {\n",
       "        text-align: right;\n",
       "    }\n",
       "</style>\n",
       "<table border=\"1\" class=\"dataframe\">\n",
       "  <thead>\n",
       "    <tr style=\"text-align: right;\">\n",
       "      <th></th>\n",
       "      <th>soundPath</th>\n",
       "      <th>region</th>\n",
       "      <th>race</th>\n",
       "    </tr>\n",
       "  </thead>\n",
       "  <tbody>\n",
       "    <tr>\n",
       "      <th>0</th>\n",
       "      <td>TIMIT/TRAIN/DR6/MABC0/SA1.wav</td>\n",
       "      <td>New York City</td>\n",
       "      <td>WHT</td>\n",
       "    </tr>\n",
       "    <tr>\n",
       "      <th>1</th>\n",
       "      <td>TIMIT/TRAIN/DR6/MABC0/SA2.wav</td>\n",
       "      <td>New York City</td>\n",
       "      <td>WHT</td>\n",
       "    </tr>\n",
       "    <tr>\n",
       "      <th>2</th>\n",
       "      <td>TIMIT/TRAIN/DR6/MABC0/SX331.wav</td>\n",
       "      <td>New York City</td>\n",
       "      <td>WHT</td>\n",
       "    </tr>\n",
       "    <tr>\n",
       "      <th>3</th>\n",
       "      <td>TIMIT/TRAIN/DR6/MABC0/SX61.wav</td>\n",
       "      <td>New York City</td>\n",
       "      <td>WHT</td>\n",
       "    </tr>\n",
       "    <tr>\n",
       "      <th>4</th>\n",
       "      <td>TIMIT/TRAIN/DR6/MABC0/SX241.wav</td>\n",
       "      <td>New York City</td>\n",
       "      <td>WHT</td>\n",
       "    </tr>\n",
       "  </tbody>\n",
       "</table>\n",
       "</div>"
      ],
      "text/plain": [
       "                         soundPath         region race\n",
       "0    TIMIT/TRAIN/DR6/MABC0/SA1.wav  New York City  WHT\n",
       "1    TIMIT/TRAIN/DR6/MABC0/SA2.wav  New York City  WHT\n",
       "2  TIMIT/TRAIN/DR6/MABC0/SX331.wav  New York City  WHT\n",
       "3   TIMIT/TRAIN/DR6/MABC0/SX61.wav  New York City  WHT\n",
       "4  TIMIT/TRAIN/DR6/MABC0/SX241.wav  New York City  WHT"
      ]
     },
     "execution_count": 6,
     "metadata": {},
     "output_type": "execute_result"
    }
   ],
   "source": [
    "df_train.head()"
   ]
  },
  {
   "cell_type": "markdown",
   "metadata": {},
   "source": [
    "We look at the distribution of values :"
   ]
  },
  {
   "cell_type": "code",
   "execution_count": 23,
   "metadata": {},
   "outputs": [
    {
     "data": {
      "text/plain": [
       "WHT    4230\n",
       "BLK     180\n",
       "SPN      20\n",
       "AMR      20\n",
       "ORN      20\n",
       "HSP      10\n",
       "HIS      10\n",
       "Name: race, dtype: int64"
      ]
     },
     "execution_count": 23,
     "metadata": {},
     "output_type": "execute_result"
    }
   ],
   "source": [
    "df_train.race.value_counts()"
   ]
  },
  {
   "cell_type": "code",
   "execution_count": 24,
   "metadata": {},
   "outputs": [
    {
     "data": {
      "text/plain": [
       "WHT    1550\n",
       "BLK      80\n",
       "???      40\n",
       "ORN      10\n",
       "Name: race, dtype: int64"
      ]
     },
     "execution_count": 24,
     "metadata": {},
     "output_type": "execute_result"
    }
   ],
   "source": [
    "df_test.race.value_counts()"
   ]
  },
  {
   "cell_type": "markdown",
   "metadata": {},
   "source": [
    "We verify that the training and test data are correctly balanced using graphs."
   ]
  },
  {
   "cell_type": "code",
   "execution_count": 31,
   "metadata": {},
   "outputs": [
    {
     "data": {
      "text/plain": [
       "WHT    4230\n",
       "BLK     180\n",
       "SPN      20\n",
       "AMR      20\n",
       "ORN      20\n",
       "HSP      10\n",
       "HIS      10\n",
       "Name: race, dtype: int64"
      ]
     },
     "execution_count": 31,
     "metadata": {},
     "output_type": "execute_result"
    },
    {
     "data": {
      "image/png": "[encoded data removed]",
      "text/plain": [
       "<Figure size 432x288 with 1 Axes>"
      ]
     },
     "metadata": {
      "needs_background": "light"
     },
     "output_type": "display_data"
    }
   ],
   "source": [
    "sns.countplot(df_train['race'],label=\"Count\")\n",
    "df_train.race.value_counts()"
   ]
  },
  {
   "cell_type": "code",
   "execution_count": 32,
   "metadata": {},
   "outputs": [
    {
     "data": {
      "text/plain": [
       "WHT    1550\n",
       "BLK      80\n",
       "???      40\n",
       "ORN      10\n",
       "Name: race, dtype: int64"
      ]
     },
     "execution_count": 32,
     "metadata": {},
     "output_type": "execute_result"
    },
    {
     "data": {
      "image/png": "[encoded data removed]",
      "text/plain": [
       "<Figure size 432x288 with 1 Axes>"
      ]
     },
     "metadata": {
      "needs_background": "light"
     },
     "output_type": "display_data"
    }
   ],
   "source": [
    "sns.countplot(df_test['race'],label=\"Count\")\n",
    "df_test.race.value_counts()"
   ]
  },
  {
   "cell_type": "markdown",
   "metadata": {},
   "source": [
    "Here, we see that the provided data are very poorly balanced and too small quantities. So, it is impossible for us to achieve this classification."
   ]
  },
  {
   "cell_type": "code",
   "execution_count": null,
   "metadata": {},
   "outputs": [],
   "source": []
  }
 ],
 "metadata": {
  "kernelspec": {
   "display_name": "Python 3",
   "language": "python",
   "name": "python3"
  },
  "language_info": {
   "codemirror_mode": {
    "name": "ipython",
    "version": 3
   },
   "file_extension": ".py",
   "mimetype": "text/x-python",
   "name": "python",
   "nbconvert_exporter": "python",
   "pygments_lexer": "ipython3",
   "version": "3.6.6"
  }
 },
 "nbformat": 4,
 "nbformat_minor": 2
}
