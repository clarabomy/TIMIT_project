{
 "cells": [
  {
   "cell_type": "code",
   "execution_count": 11,
   "metadata": {},
   "outputs": [],
   "source": [
    "import pandas as pd\n",
    "import numpy as np\n",
    "from matplotlib import pyplot as plt\n",
    "import seaborn as sns\n",
    "import librosa as lr\n",
    "import matplotlib.pyplot as plt\n",
    "import pylab\n",
    "import librosa.display\n",
    "import importlib\n",
    "import utils\n",
    "\n",
    "from sklearn.metrics import accuracy_score, confusion_matrix, classification_report"
   ]
  },
  {
   "cell_type": "markdown",
   "metadata": {},
   "source": [
    "# Recovery of data as dataframes"
   ]
  },
  {
   "cell_type": "code",
   "execution_count": 12,
   "metadata": {},
   "outputs": [],
   "source": [
    "df_train = pd.read_csv(\"train.csv\", \"|\")\n",
    "df_test = pd.read_csv(\"test.csv\", \"|\")"
   ]
  },
  {
   "cell_type": "code",
   "execution_count": 13,
   "metadata": {},
   "outputs": [
    {
     "data": {
      "text/html": [
       "<div>\n",
       "<style scoped>\n",
       "    .dataframe tbody tr th:only-of-type {\n",
       "        vertical-align: middle;\n",
       "    }\n",
       "\n",
       "    .dataframe tbody tr th {\n",
       "        vertical-align: top;\n",
       "    }\n",
       "\n",
       "    .dataframe thead th {\n",
       "        text-align: right;\n",
       "    }\n",
       "</style>\n",
       "<table border=\"1\" class=\"dataframe\">\n",
       "  <thead>\n",
       "    <tr style=\"text-align: right;\">\n",
       "      <th></th>\n",
       "      <th>soundName</th>\n",
       "      <th>personName</th>\n",
       "      <th>TRN/TST</th>\n",
       "      <th>soundPath</th>\n",
       "      <th>wrdPath</th>\n",
       "      <th>phnPath</th>\n",
       "      <th>txtPath</th>\n",
       "      <th>gender</th>\n",
       "      <th>region</th>\n",
       "      <th>age</th>\n",
       "      <th>recordDate</th>\n",
       "      <th>birthDate</th>\n",
       "      <th>height</th>\n",
       "      <th>race</th>\n",
       "      <th>education</th>\n",
       "      <th>prompt</th>\n",
       "      <th>start</th>\n",
       "      <th>end</th>\n",
       "    </tr>\n",
       "  </thead>\n",
       "  <tbody>\n",
       "    <tr>\n",
       "      <th>0</th>\n",
       "      <td>sa1</td>\n",
       "      <td>ABC0</td>\n",
       "      <td>TRN</td>\n",
       "      <td>TIMIT/TRAIN/DR6/MABC0/SA1.wav</td>\n",
       "      <td>TIMIT/TRAIN/DR6/MABC0/SA1.wrd</td>\n",
       "      <td>TIMIT/TRAIN/DR6/MABC0/SA1.phn</td>\n",
       "      <td>TIMIT/TRAIN/DR6/MABC0/SA1.txt</td>\n",
       "      <td>M</td>\n",
       "      <td>New York City</td>\n",
       "      <td>25</td>\n",
       "      <td>03/03/86</td>\n",
       "      <td>06/17/60</td>\n",
       "      <td>180.34</td>\n",
       "      <td>WHT</td>\n",
       "      <td>BS</td>\n",
       "      <td>She had your dark suit in greasy wash water all</td>\n",
       "      <td>0</td>\n",
       "      <td>43418</td>\n",
       "    </tr>\n",
       "    <tr>\n",
       "      <th>1</th>\n",
       "      <td>sa2</td>\n",
       "      <td>ABC0</td>\n",
       "      <td>TRN</td>\n",
       "      <td>TIMIT/TRAIN/DR6/MABC0/SA2.wav</td>\n",
       "      <td>TIMIT/TRAIN/DR6/MABC0/SA2.wrd</td>\n",
       "      <td>TIMIT/TRAIN/DR6/MABC0/SA2.phn</td>\n",
       "      <td>TIMIT/TRAIN/DR6/MABC0/SA2.txt</td>\n",
       "      <td>M</td>\n",
       "      <td>New York City</td>\n",
       "      <td>25</td>\n",
       "      <td>03/03/86</td>\n",
       "      <td>06/17/60</td>\n",
       "      <td>180.34</td>\n",
       "      <td>WHT</td>\n",
       "      <td>BS</td>\n",
       "      <td>Don't ask me to carry an oily rag like</td>\n",
       "      <td>0</td>\n",
       "      <td>35840</td>\n",
       "    </tr>\n",
       "    <tr>\n",
       "      <th>2</th>\n",
       "      <td>sx331</td>\n",
       "      <td>ABC0</td>\n",
       "      <td>TRN</td>\n",
       "      <td>TIMIT/TRAIN/DR6/MABC0/SX331.wav</td>\n",
       "      <td>TIMIT/TRAIN/DR6/MABC0/SX331.wrd</td>\n",
       "      <td>TIMIT/TRAIN/DR6/MABC0/SX331.phn</td>\n",
       "      <td>TIMIT/TRAIN/DR6/MABC0/SX331.txt</td>\n",
       "      <td>M</td>\n",
       "      <td>New York City</td>\n",
       "      <td>25</td>\n",
       "      <td>03/03/86</td>\n",
       "      <td>06/17/60</td>\n",
       "      <td>180.34</td>\n",
       "      <td>WHT</td>\n",
       "      <td>BS</td>\n",
       "      <td>The big dog loved to chew on the old rag</td>\n",
       "      <td>0</td>\n",
       "      <td>39322</td>\n",
       "    </tr>\n",
       "    <tr>\n",
       "      <th>3</th>\n",
       "      <td>sx61</td>\n",
       "      <td>ABC0</td>\n",
       "      <td>TRN</td>\n",
       "      <td>TIMIT/TRAIN/DR6/MABC0/SX61.wav</td>\n",
       "      <td>TIMIT/TRAIN/DR6/MABC0/SX61.wrd</td>\n",
       "      <td>TIMIT/TRAIN/DR6/MABC0/SX61.phn</td>\n",
       "      <td>TIMIT/TRAIN/DR6/MABC0/SX61.txt</td>\n",
       "      <td>M</td>\n",
       "      <td>New York City</td>\n",
       "      <td>25</td>\n",
       "      <td>03/03/86</td>\n",
       "      <td>06/17/60</td>\n",
       "      <td>180.34</td>\n",
       "      <td>WHT</td>\n",
       "      <td>BS</td>\n",
       "      <td>Chocolate and roses never fail as a romantic</td>\n",
       "      <td>0</td>\n",
       "      <td>39936</td>\n",
       "    </tr>\n",
       "    <tr>\n",
       "      <th>4</th>\n",
       "      <td>sx241</td>\n",
       "      <td>ABC0</td>\n",
       "      <td>TRN</td>\n",
       "      <td>TIMIT/TRAIN/DR6/MABC0/SX241.wav</td>\n",
       "      <td>TIMIT/TRAIN/DR6/MABC0/SX241.wrd</td>\n",
       "      <td>TIMIT/TRAIN/DR6/MABC0/SX241.phn</td>\n",
       "      <td>TIMIT/TRAIN/DR6/MABC0/SX241.txt</td>\n",
       "      <td>M</td>\n",
       "      <td>New York City</td>\n",
       "      <td>25</td>\n",
       "      <td>03/03/86</td>\n",
       "      <td>06/17/60</td>\n",
       "      <td>180.34</td>\n",
       "      <td>WHT</td>\n",
       "      <td>BS</td>\n",
       "      <td>The hallway opens into a huge</td>\n",
       "      <td>0</td>\n",
       "      <td>31949</td>\n",
       "    </tr>\n",
       "  </tbody>\n",
       "</table>\n",
       "</div>"
      ],
      "text/plain": [
       "  soundName personName TRN/TST                        soundPath  \\\n",
       "0       sa1       ABC0     TRN    TIMIT/TRAIN/DR6/MABC0/SA1.wav   \n",
       "1       sa2       ABC0     TRN    TIMIT/TRAIN/DR6/MABC0/SA2.wav   \n",
       "2     sx331       ABC0     TRN  TIMIT/TRAIN/DR6/MABC0/SX331.wav   \n",
       "3      sx61       ABC0     TRN   TIMIT/TRAIN/DR6/MABC0/SX61.wav   \n",
       "4     sx241       ABC0     TRN  TIMIT/TRAIN/DR6/MABC0/SX241.wav   \n",
       "\n",
       "                           wrdPath                          phnPath  \\\n",
       "0    TIMIT/TRAIN/DR6/MABC0/SA1.wrd    TIMIT/TRAIN/DR6/MABC0/SA1.phn   \n",
       "1    TIMIT/TRAIN/DR6/MABC0/SA2.wrd    TIMIT/TRAIN/DR6/MABC0/SA2.phn   \n",
       "2  TIMIT/TRAIN/DR6/MABC0/SX331.wrd  TIMIT/TRAIN/DR6/MABC0/SX331.phn   \n",
       "3   TIMIT/TRAIN/DR6/MABC0/SX61.wrd   TIMIT/TRAIN/DR6/MABC0/SX61.phn   \n",
       "4  TIMIT/TRAIN/DR6/MABC0/SX241.wrd  TIMIT/TRAIN/DR6/MABC0/SX241.phn   \n",
       "\n",
       "                           txtPath gender         region  age recordDate  \\\n",
       "0    TIMIT/TRAIN/DR6/MABC0/SA1.txt      M  New York City   25   03/03/86   \n",
       "1    TIMIT/TRAIN/DR6/MABC0/SA2.txt      M  New York City   25   03/03/86   \n",
       "2  TIMIT/TRAIN/DR6/MABC0/SX331.txt      M  New York City   25   03/03/86   \n",
       "3   TIMIT/TRAIN/DR6/MABC0/SX61.txt      M  New York City   25   03/03/86   \n",
       "4  TIMIT/TRAIN/DR6/MABC0/SX241.txt      M  New York City   25   03/03/86   \n",
       "\n",
       "  birthDate  height race education  \\\n",
       "0  06/17/60  180.34  WHT       BS    \n",
       "1  06/17/60  180.34  WHT       BS    \n",
       "2  06/17/60  180.34  WHT       BS    \n",
       "3  06/17/60  180.34  WHT       BS    \n",
       "4  06/17/60  180.34  WHT       BS    \n",
       "\n",
       "                                            prompt  start    end  \n",
       "0  She had your dark suit in greasy wash water all      0  43418  \n",
       "1           Don't ask me to carry an oily rag like      0  35840  \n",
       "2         The big dog loved to chew on the old rag      0  39322  \n",
       "3     Chocolate and roses never fail as a romantic      0  39936  \n",
       "4                    The hallway opens into a huge      0  31949  "
      ]
     },
     "execution_count": 13,
     "metadata": {},
     "output_type": "execute_result"
    }
   ],
   "source": [
    "df_train.head()"
   ]
  },
  {
   "cell_type": "markdown",
   "metadata": {},
   "source": [
    "# Data visualization"
   ]
  },
  {
   "cell_type": "code",
   "execution_count": 14,
   "metadata": {},
   "outputs": [
    {
     "name": "stdout",
     "output_type": "stream",
     "text": [
      "Shape of training data :  (4620, 18)\n",
      "Shape of testing data  :  (1680, 18)\n"
     ]
    }
   ],
   "source": [
    "print(\"Shape of training data : \", df_train.shape)\n",
    "print(\"Shape of testing data  : \", df_test.shape)"
   ]
  },
  {
   "cell_type": "code",
   "execution_count": 15,
   "metadata": {},
   "outputs": [],
   "source": [
    "df_train = df_train.drop(['personName','soundName','txtPath','phnPath','wrdPath','TRN/TST','age','recordDate','birthDate','height','region','gender','education','prompt','start','end'], axis = 1)\n",
    "df_test = df_test.drop(['personName','soundName','txtPath','phnPath','wrdPath','TRN/TST','age','recordDate','birthDate','height','region','gender','education','prompt','start','end'], axis = 1)"
   ]
  },
  {
   "cell_type": "code",
   "execution_count": 6,
   "metadata": {},
   "outputs": [
    {
     "data": {
      "text/html": [
       "<div>\n",
       "<style scoped>\n",
       "    .dataframe tbody tr th:only-of-type {\n",
       "        vertical-align: middle;\n",
       "    }\n",
       "\n",
       "    .dataframe tbody tr th {\n",
       "        vertical-align: top;\n",
       "    }\n",
       "\n",
       "    .dataframe thead th {\n",
       "        text-align: right;\n",
       "    }\n",
       "</style>\n",
       "<table border=\"1\" class=\"dataframe\">\n",
       "  <thead>\n",
       "    <tr style=\"text-align: right;\">\n",
       "      <th></th>\n",
       "      <th>soundPath</th>\n",
       "      <th>region</th>\n",
       "      <th>race</th>\n",
       "    </tr>\n",
       "  </thead>\n",
       "  <tbody>\n",
       "    <tr>\n",
       "      <th>0</th>\n",
       "      <td>TIMIT/TRAIN/DR6/MABC0/SA1.wav</td>\n",
       "      <td>New York City</td>\n",
       "      <td>WHT</td>\n",
       "    </tr>\n",
       "    <tr>\n",
       "      <th>1</th>\n",
       "      <td>TIMIT/TRAIN/DR6/MABC0/SA2.wav</td>\n",
       "      <td>New York City</td>\n",
       "      <td>WHT</td>\n",
       "    </tr>\n",
       "    <tr>\n",
       "      <th>2</th>\n",
       "      <td>TIMIT/TRAIN/DR6/MABC0/SX331.wav</td>\n",
       "      <td>New York City</td>\n",
       "      <td>WHT</td>\n",
       "    </tr>\n",
       "    <tr>\n",
       "      <th>3</th>\n",
       "      <td>TIMIT/TRAIN/DR6/MABC0/SX61.wav</td>\n",
       "      <td>New York City</td>\n",
       "      <td>WHT</td>\n",
       "    </tr>\n",
       "    <tr>\n",
       "      <th>4</th>\n",
       "      <td>TIMIT/TRAIN/DR6/MABC0/SX241.wav</td>\n",
       "      <td>New York City</td>\n",
       "      <td>WHT</td>\n",
       "    </tr>\n",
       "  </tbody>\n",
       "</table>\n",
       "</div>"
      ],
      "text/plain": [
       "                         soundPath         region race\n",
       "0    TIMIT/TRAIN/DR6/MABC0/SA1.wav  New York City  WHT\n",
       "1    TIMIT/TRAIN/DR6/MABC0/SA2.wav  New York City  WHT\n",
       "2  TIMIT/TRAIN/DR6/MABC0/SX331.wav  New York City  WHT\n",
       "3   TIMIT/TRAIN/DR6/MABC0/SX61.wav  New York City  WHT\n",
       "4  TIMIT/TRAIN/DR6/MABC0/SX241.wav  New York City  WHT"
      ]
     },
     "execution_count": 6,
     "metadata": {},
     "output_type": "execute_result"
    }
   ],
   "source": [
    "df_train.head()"
   ]
  },
  {
   "cell_type": "code",
   "execution_count": 23,
   "metadata": {},
   "outputs": [
    {
     "data": {
      "text/plain": [
       "WHT    4230\n",
       "BLK     180\n",
       "SPN      20\n",
       "AMR      20\n",
       "ORN      20\n",
       "HSP      10\n",
       "HIS      10\n",
       "Name: race, dtype: int64"
      ]
     },
     "execution_count": 23,
     "metadata": {},
     "output_type": "execute_result"
    }
   ],
   "source": [
    "df_train.race.value_counts()"
   ]
  },
  {
   "cell_type": "code",
   "execution_count": 24,
   "metadata": {},
   "outputs": [
    {
     "data": {
      "text/plain": [
       "WHT    1550\n",
       "BLK      80\n",
       "???      40\n",
       "ORN      10\n",
       "Name: race, dtype: int64"
      ]
     },
     "execution_count": 24,
     "metadata": {},
     "output_type": "execute_result"
    }
   ],
   "source": [
    "df_test.race.value_counts()"
   ]
  },
  {
   "cell_type": "code",
   "execution_count": 31,
   "metadata": {},
   "outputs": [
    {
     "data": {
      "text/plain": [
       "WHT    4230\n",
       "BLK     180\n",
       "SPN      20\n",
       "AMR      20\n",
       "ORN      20\n",
       "HSP      10\n",
       "HIS      10\n",
       "Name: race, dtype: int64"
      ]
     },
     "execution_count": 31,
     "metadata": {},
     "output_type": "execute_result"
    },
    {
     "data": {
      "image/png": "[encoded data removed]",
      "text/plain": [
       "<Figure size 432x288 with 1 Axes>"
      ]
     },
     "metadata": {
      "needs_background": "light"
     },
     "output_type": "display_data"
    }
   ],
   "source": [
    "sns.countplot(df_train['race'],label=\"Count\")\n",
    "df_train.race.value_counts()"
   ]
  },
  {
   "cell_type": "code",
   "execution_count": 32,
   "metadata": {},
   "outputs": [
    {
     "data": {
      "text/plain": [
       "WHT    1550\n",
       "BLK      80\n",
       "???      40\n",
       "ORN      10\n",
       "Name: race, dtype: int64"
      ]
     },
     "execution_count": 32,
     "metadata": {},
     "output_type": "execute_result"
    },
    {
     "data": {
      "image/png": "[encoded data removed]",
      "text/plain": [
       "<Figure size 432x288 with 1 Axes>"
      ]
     },
     "metadata": {
      "needs_background": "light"
     },
     "output_type": "display_data"
    }
   ],
   "source": [
    "sns.countplot(df_test['race'],label=\"Count\")\n",
    "df_test.race.value_counts()"
   ]
  },
  {
   "cell_type": "markdown",
   "metadata": {},
   "source": [
    "# Extracting audio files"
   ]
  },
  {
   "cell_type": "code",
   "execution_count": 10,
   "metadata": {},
   "outputs": [],
   "source": [
    "train_audio_list = df_train.soundPath.tolist()\n",
    "test_audio_list = df_test.soundPath.tolist()"
   ]
  },
  {
   "cell_type": "code",
   "execution_count": 11,
   "metadata": {},
   "outputs": [],
   "source": [
    "train_temp_features = []\n",
    "test_temp_features = []\n",
    "\n",
    "for elt in train_audio_list:\n",
    "    train_temp_features.append(utils.extract_features(elt))\n",
    "\n",
    "for elt in test_audio_list:\n",
    "    test_temp_features.append(utils.extract_features(elt))"
   ]
  },
  {
   "cell_type": "markdown",
   "metadata": {},
   "source": [
    "# Preparation of train and test data"
   ]
  },
  {
   "cell_type": "markdown",
   "metadata": {},
   "source": [
    "df_train['region'] = df_train.region.map({'South Midland':0, 'Southern':1, 'North Midland':2, 'Northern':3, 'Western':4, 'New York City':5, 'New England':6, 'Army Brat (moved around)':7})\n",
    "df_test['region'] = df_test.region.map({'South Midland':0, 'Southern':1, 'North Midland':2, 'Northern':3, 'Western':4, 'New York City':5, 'New England':6, 'Army Brat (moved around)':7})"
   ]
  },
  {
   "cell_type": "code",
   "execution_count": 12,
   "metadata": {},
   "outputs": [],
   "source": [
    "df_train = pd.get_dummies(data=df_train, columns=['region'])\n",
    "df_test = pd.get_dummies(data=df_test, columns=['region'])"
   ]
  },
  {
   "cell_type": "code",
   "execution_count": 13,
   "metadata": {},
   "outputs": [
    {
     "data": {
      "text/html": [
       "<div>\n",
       "<style scoped>\n",
       "    .dataframe tbody tr th:only-of-type {\n",
       "        vertical-align: middle;\n",
       "    }\n",
       "\n",
       "    .dataframe tbody tr th {\n",
       "        vertical-align: top;\n",
       "    }\n",
       "\n",
       "    .dataframe thead th {\n",
       "        text-align: right;\n",
       "    }\n",
       "</style>\n",
       "<table border=\"1\" class=\"dataframe\">\n",
       "  <thead>\n",
       "    <tr style=\"text-align: right;\">\n",
       "      <th></th>\n",
       "      <th>soundPath</th>\n",
       "      <th>region_Army Brat (moved around)</th>\n",
       "      <th>region_New England</th>\n",
       "      <th>region_New York City</th>\n",
       "      <th>region_North Midland</th>\n",
       "      <th>region_Northern</th>\n",
       "      <th>region_South Midland</th>\n",
       "      <th>region_Southern</th>\n",
       "      <th>region_Western</th>\n",
       "    </tr>\n",
       "  </thead>\n",
       "  <tbody>\n",
       "    <tr>\n",
       "      <th>0</th>\n",
       "      <td>TIMIT/TRAIN/DR6/MABC0/SA1.wav</td>\n",
       "      <td>0</td>\n",
       "      <td>0</td>\n",
       "      <td>1</td>\n",
       "      <td>0</td>\n",
       "      <td>0</td>\n",
       "      <td>0</td>\n",
       "      <td>0</td>\n",
       "      <td>0</td>\n",
       "    </tr>\n",
       "    <tr>\n",
       "      <th>1</th>\n",
       "      <td>TIMIT/TRAIN/DR6/MABC0/SA2.wav</td>\n",
       "      <td>0</td>\n",
       "      <td>0</td>\n",
       "      <td>1</td>\n",
       "      <td>0</td>\n",
       "      <td>0</td>\n",
       "      <td>0</td>\n",
       "      <td>0</td>\n",
       "      <td>0</td>\n",
       "    </tr>\n",
       "    <tr>\n",
       "      <th>2</th>\n",
       "      <td>TIMIT/TRAIN/DR6/MABC0/SX331.wav</td>\n",
       "      <td>0</td>\n",
       "      <td>0</td>\n",
       "      <td>1</td>\n",
       "      <td>0</td>\n",
       "      <td>0</td>\n",
       "      <td>0</td>\n",
       "      <td>0</td>\n",
       "      <td>0</td>\n",
       "    </tr>\n",
       "    <tr>\n",
       "      <th>3</th>\n",
       "      <td>TIMIT/TRAIN/DR6/MABC0/SX61.wav</td>\n",
       "      <td>0</td>\n",
       "      <td>0</td>\n",
       "      <td>1</td>\n",
       "      <td>0</td>\n",
       "      <td>0</td>\n",
       "      <td>0</td>\n",
       "      <td>0</td>\n",
       "      <td>0</td>\n",
       "    </tr>\n",
       "    <tr>\n",
       "      <th>4</th>\n",
       "      <td>TIMIT/TRAIN/DR6/MABC0/SX241.wav</td>\n",
       "      <td>0</td>\n",
       "      <td>0</td>\n",
       "      <td>1</td>\n",
       "      <td>0</td>\n",
       "      <td>0</td>\n",
       "      <td>0</td>\n",
       "      <td>0</td>\n",
       "      <td>0</td>\n",
       "    </tr>\n",
       "  </tbody>\n",
       "</table>\n",
       "</div>"
      ],
      "text/plain": [
       "                         soundPath  region_Army Brat (moved around)  \\\n",
       "0    TIMIT/TRAIN/DR6/MABC0/SA1.wav                                0   \n",
       "1    TIMIT/TRAIN/DR6/MABC0/SA2.wav                                0   \n",
       "2  TIMIT/TRAIN/DR6/MABC0/SX331.wav                                0   \n",
       "3   TIMIT/TRAIN/DR6/MABC0/SX61.wav                                0   \n",
       "4  TIMIT/TRAIN/DR6/MABC0/SX241.wav                                0   \n",
       "\n",
       "   region_New England  region_New York City  region_North Midland  \\\n",
       "0                   0                     1                     0   \n",
       "1                   0                     1                     0   \n",
       "2                   0                     1                     0   \n",
       "3                   0                     1                     0   \n",
       "4                   0                     1                     0   \n",
       "\n",
       "   region_Northern  region_South Midland  region_Southern  region_Western  \n",
       "0                0                     0                0               0  \n",
       "1                0                     0                0               0  \n",
       "2                0                     0                0               0  \n",
       "3                0                     0                0               0  \n",
       "4                0                     0                0               0  "
      ]
     },
     "execution_count": 13,
     "metadata": {},
     "output_type": "execute_result"
    }
   ],
   "source": [
    "df_train.head()"
   ]
  },
  {
   "cell_type": "code",
   "execution_count": 14,
   "metadata": {},
   "outputs": [
    {
     "data": {
      "text/html": [
       "<div>\n",
       "<style scoped>\n",
       "    .dataframe tbody tr th:only-of-type {\n",
       "        vertical-align: middle;\n",
       "    }\n",
       "\n",
       "    .dataframe tbody tr th {\n",
       "        vertical-align: top;\n",
       "    }\n",
       "\n",
       "    .dataframe thead th {\n",
       "        text-align: right;\n",
       "    }\n",
       "</style>\n",
       "<table border=\"1\" class=\"dataframe\">\n",
       "  <thead>\n",
       "    <tr style=\"text-align: right;\">\n",
       "      <th></th>\n",
       "      <th>soundPath</th>\n",
       "      <th>region_Army Brat (moved around)</th>\n",
       "      <th>region_New England</th>\n",
       "      <th>region_New York City</th>\n",
       "      <th>region_North Midland</th>\n",
       "      <th>region_Northern</th>\n",
       "      <th>region_South Midland</th>\n",
       "      <th>region_Southern</th>\n",
       "      <th>region_Western</th>\n",
       "    </tr>\n",
       "  </thead>\n",
       "  <tbody>\n",
       "    <tr>\n",
       "      <th>0</th>\n",
       "      <td>TIMIT/TEST/DR2/MABW0/SA1.wav</td>\n",
       "      <td>0</td>\n",
       "      <td>0</td>\n",
       "      <td>0</td>\n",
       "      <td>0</td>\n",
       "      <td>1</td>\n",
       "      <td>0</td>\n",
       "      <td>0</td>\n",
       "      <td>0</td>\n",
       "    </tr>\n",
       "    <tr>\n",
       "      <th>1</th>\n",
       "      <td>TIMIT/TEST/DR2/MABW0/SA2.wav</td>\n",
       "      <td>0</td>\n",
       "      <td>0</td>\n",
       "      <td>0</td>\n",
       "      <td>0</td>\n",
       "      <td>1</td>\n",
       "      <td>0</td>\n",
       "      <td>0</td>\n",
       "      <td>0</td>\n",
       "    </tr>\n",
       "    <tr>\n",
       "      <th>2</th>\n",
       "      <td>TIMIT/TEST/DR2/MABW0/SX134.wav</td>\n",
       "      <td>0</td>\n",
       "      <td>0</td>\n",
       "      <td>0</td>\n",
       "      <td>0</td>\n",
       "      <td>1</td>\n",
       "      <td>0</td>\n",
       "      <td>0</td>\n",
       "      <td>0</td>\n",
       "    </tr>\n",
       "    <tr>\n",
       "      <th>3</th>\n",
       "      <td>TIMIT/TEST/DR2/MABW0/SX314.wav</td>\n",
       "      <td>0</td>\n",
       "      <td>0</td>\n",
       "      <td>0</td>\n",
       "      <td>0</td>\n",
       "      <td>1</td>\n",
       "      <td>0</td>\n",
       "      <td>0</td>\n",
       "      <td>0</td>\n",
       "    </tr>\n",
       "    <tr>\n",
       "      <th>4</th>\n",
       "      <td>TIMIT/TEST/DR2/MABW0/SX44.wav</td>\n",
       "      <td>0</td>\n",
       "      <td>0</td>\n",
       "      <td>0</td>\n",
       "      <td>0</td>\n",
       "      <td>1</td>\n",
       "      <td>0</td>\n",
       "      <td>0</td>\n",
       "      <td>0</td>\n",
       "    </tr>\n",
       "  </tbody>\n",
       "</table>\n",
       "</div>"
      ],
      "text/plain": [
       "                        soundPath  region_Army Brat (moved around)  \\\n",
       "0    TIMIT/TEST/DR2/MABW0/SA1.wav                                0   \n",
       "1    TIMIT/TEST/DR2/MABW0/SA2.wav                                0   \n",
       "2  TIMIT/TEST/DR2/MABW0/SX134.wav                                0   \n",
       "3  TIMIT/TEST/DR2/MABW0/SX314.wav                                0   \n",
       "4   TIMIT/TEST/DR2/MABW0/SX44.wav                                0   \n",
       "\n",
       "   region_New England  region_New York City  region_North Midland  \\\n",
       "0                   0                     0                     0   \n",
       "1                   0                     0                     0   \n",
       "2                   0                     0                     0   \n",
       "3                   0                     0                     0   \n",
       "4                   0                     0                     0   \n",
       "\n",
       "   region_Northern  region_South Midland  region_Southern  region_Western  \n",
       "0                1                     0                0               0  \n",
       "1                1                     0                0               0  \n",
       "2                1                     0                0               0  \n",
       "3                1                     0                0               0  \n",
       "4                1                     0                0               0  "
      ]
     },
     "execution_count": 14,
     "metadata": {},
     "output_type": "execute_result"
    }
   ],
   "source": [
    "df_test.head()"
   ]
  },
  {
   "cell_type": "code",
   "execution_count": 27,
   "metadata": {},
   "outputs": [],
   "source": [
    "X_train = np.array(train_temp_features)\n",
    "y_train = np.array(df_train.drop(['soundPath'], axis=1))\n",
    "X_test = np.array(test_temp_features)\n",
    "y_test= np.array(df_test.drop(['soundPath'], axis=1))"
   ]
  },
  {
   "cell_type": "code",
   "execution_count": 28,
   "metadata": {},
   "outputs": [],
   "source": [
    "from keras import models\n",
    "from keras import layers\n",
    "from keras.models import Sequential\n",
    "from keras.layers import Dense, Dropout\n",
    "from keras.optimizers import Adam\n",
    "\n",
    "model = models.Sequential()\n",
    "model.add(layers.Dense(256, activation='relu', input_shape=(X_train.shape[1],)))\n",
    "model.add(layers.Dense(128, activation='relu'))\n",
    "model.add(layers.Dense(64, activation='relu'))\n",
    "model.add(Dropout(0.5))\n",
    "model.add(layers.Dense(8, activation='softmax'))\n",
    "model.compile(loss='categorical_crossentropy', metrics=['accuracy'], optimizer='adam')"
   ]
  },
  {
   "cell_type": "code",
   "execution_count": 30,
   "metadata": {},
   "outputs": [
    {
     "name": "stdout",
     "output_type": "stream",
     "text": [
      "Train on 4620 samples, validate on 1680 samples\n",
      "Epoch 1/100\n",
      "4620/4620 [==============================] - 0s 59us/step - loss: 2.0073 - acc: 0.1667 - val_loss: 2.0139 - val_acc: 0.1369\n",
      "Epoch 2/100\n",
      "4620/4620 [==============================] - 0s 56us/step - loss: 2.0071 - acc: 0.1621 - val_loss: 2.0141 - val_acc: 0.1369\n",
      "Epoch 3/100\n",
      "4620/4620 [==============================] - 0s 56us/step - loss: 2.0068 - acc: 0.1667 - val_loss: 2.0142 - val_acc: 0.1369\n",
      "Epoch 4/100\n",
      "4620/4620 [==============================] - 0s 58us/step - loss: 2.0068 - acc: 0.1623 - val_loss: 2.0142 - val_acc: 0.1369\n",
      "Epoch 5/100\n",
      "4620/4620 [==============================] - 0s 54us/step - loss: 2.0066 - acc: 0.1667 - val_loss: 2.0142 - val_acc: 0.1369\n",
      "Epoch 6/100\n",
      "4620/4620 [==============================] - 0s 57us/step - loss: 2.0066 - acc: 0.1667 - val_loss: 2.0145 - val_acc: 0.1369\n",
      "Epoch 7/100\n",
      "4620/4620 [==============================] - 0s 65us/step - loss: 2.0065 - acc: 0.1667 - val_loss: 2.0143 - val_acc: 0.1369\n",
      "Epoch 8/100\n",
      "4620/4620 [==============================] - 0s 58us/step - loss: 2.0065 - acc: 0.1667 - val_loss: 2.0144 - val_acc: 0.1369\n",
      "Epoch 9/100\n",
      "4620/4620 [==============================] - 0s 53us/step - loss: 2.0065 - acc: 0.1667 - val_loss: 2.0146 - val_acc: 0.1369\n",
      "Epoch 10/100\n",
      "4620/4620 [==============================] - 0s 85us/step - loss: 2.0065 - acc: 0.1610 - val_loss: 2.0148 - val_acc: 0.1369\n",
      "Epoch 11/100\n",
      "4620/4620 [==============================] - 0s 59us/step - loss: 2.0065 - acc: 0.1632 - val_loss: 2.0150 - val_acc: 0.1369\n",
      "Epoch 12/100\n",
      "4620/4620 [==============================] - 0s 58us/step - loss: 2.0065 - acc: 0.1667 - val_loss: 2.0150 - val_acc: 0.1369\n",
      "Epoch 13/100\n",
      "4620/4620 [==============================] - 0s 65us/step - loss: 2.0065 - acc: 0.1667 - val_loss: 2.0150 - val_acc: 0.1369\n",
      "Epoch 14/100\n",
      "4620/4620 [==============================] - 0s 58us/step - loss: 2.0065 - acc: 0.1613 - val_loss: 2.0151 - val_acc: 0.1369\n",
      "Epoch 15/100\n",
      "4620/4620 [==============================] - 0s 61us/step - loss: 2.0065 - acc: 0.1667 - val_loss: 2.0151 - val_acc: 0.1369\n",
      "Epoch 16/100\n",
      "4620/4620 [==============================] - 0s 64us/step - loss: 2.0065 - acc: 0.1604 - val_loss: 2.0150 - val_acc: 0.1369\n",
      "Epoch 17/100\n",
      "4620/4620 [==============================] - 0s 59us/step - loss: 2.0065 - acc: 0.1667 - val_loss: 2.0153 - val_acc: 0.1369\n",
      "Epoch 18/100\n",
      "4620/4620 [==============================] - 0s 90us/step - loss: 2.0064 - acc: 0.1667 - val_loss: 2.0152 - val_acc: 0.1369\n",
      "Epoch 19/100\n",
      "4620/4620 [==============================] - 0s 60us/step - loss: 2.0065 - acc: 0.1667 - val_loss: 2.0153 - val_acc: 0.1369\n",
      "Epoch 20/100\n",
      "4620/4620 [==============================] - 0s 61us/step - loss: 2.0065 - acc: 0.1667 - val_loss: 2.0152 - val_acc: 0.1369\n",
      "Epoch 21/100\n",
      "4620/4620 [==============================] - 0s 84us/step - loss: 2.0065 - acc: 0.1667 - val_loss: 2.0151 - val_acc: 0.1369\n",
      "Epoch 22/100\n",
      "4620/4620 [==============================] - 0s 60us/step - loss: 2.0064 - acc: 0.1667 - val_loss: 2.0152 - val_acc: 0.1369\n",
      "Epoch 23/100\n",
      "4620/4620 [==============================] - 0s 61us/step - loss: 2.0065 - acc: 0.1643 - val_loss: 2.0152 - val_acc: 0.1369\n",
      "Epoch 24/100\n",
      "4620/4620 [==============================] - 0s 58us/step - loss: 2.0064 - acc: 0.1667 - val_loss: 2.0151 - val_acc: 0.1369\n",
      "Epoch 25/100\n",
      "4620/4620 [==============================] - 0s 61us/step - loss: 2.0065 - acc: 0.1626 - val_loss: 2.0150 - val_acc: 0.1369\n",
      "Epoch 26/100\n",
      "4620/4620 [==============================] - 0s 65us/step - loss: 2.0065 - acc: 0.1667 - val_loss: 2.0154 - val_acc: 0.1369\n",
      "Epoch 27/100\n",
      "4620/4620 [==============================] - 0s 58us/step - loss: 2.0065 - acc: 0.1613 - val_loss: 2.0155 - val_acc: 0.1369\n",
      "Epoch 28/100\n",
      "4620/4620 [==============================] - 0s 65us/step - loss: 2.0065 - acc: 0.1667 - val_loss: 2.0152 - val_acc: 0.1369\n",
      "Epoch 29/100\n",
      "4620/4620 [==============================] - 0s 84us/step - loss: 2.0065 - acc: 0.1667 - val_loss: 2.0155 - val_acc: 0.1369\n",
      "Epoch 30/100\n",
      "4620/4620 [==============================] - 0s 69us/step - loss: 2.0064 - acc: 0.1667 - val_loss: 2.0154 - val_acc: 0.1369\n",
      "Epoch 31/100\n",
      "4620/4620 [==============================] - 0s 87us/step - loss: 2.0065 - acc: 0.1667 - val_loss: 2.0154 - val_acc: 0.1369\n",
      "Epoch 32/100\n",
      "4620/4620 [==============================] - 0s 61us/step - loss: 2.0065 - acc: 0.1667 - val_loss: 2.0156 - val_acc: 0.1369\n",
      "Epoch 33/100\n",
      "4620/4620 [==============================] - 0s 59us/step - loss: 2.0064 - acc: 0.1667 - val_loss: 2.0155 - val_acc: 0.1369\n",
      "Epoch 34/100\n",
      "4620/4620 [==============================] - 0s 61us/step - loss: 2.0064 - acc: 0.1667 - val_loss: 2.0154 - val_acc: 0.1369\n",
      "Epoch 35/100\n",
      "4620/4620 [==============================] - 0s 61us/step - loss: 2.0065 - acc: 0.1667 - val_loss: 2.0154 - val_acc: 0.1369\n",
      "Epoch 36/100\n",
      "4620/4620 [==============================] - 0s 72us/step - loss: 2.0064 - acc: 0.1667 - val_loss: 2.0154 - val_acc: 0.1369\n",
      "Epoch 37/100\n",
      "4620/4620 [==============================] - 0s 90us/step - loss: 2.0065 - acc: 0.1667 - val_loss: 2.0154 - val_acc: 0.1369\n",
      "Epoch 38/100\n",
      "4620/4620 [==============================] - 0s 61us/step - loss: 2.0065 - acc: 0.1667 - val_loss: 2.0153 - val_acc: 0.1369\n",
      "Epoch 39/100\n",
      "4620/4620 [==============================] - 0s 57us/step - loss: 2.0064 - acc: 0.1667 - val_loss: 2.0153 - val_acc: 0.1369\n",
      "Epoch 40/100\n",
      "4620/4620 [==============================] - 0s 75us/step - loss: 2.0065 - acc: 0.1667 - val_loss: 2.0154 - val_acc: 0.1369\n",
      "Epoch 41/100\n",
      "4620/4620 [==============================] - 0s 69us/step - loss: 2.0065 - acc: 0.1667 - val_loss: 2.0153 - val_acc: 0.1369\n",
      "Epoch 42/100\n",
      "4620/4620 [==============================] - 0s 67us/step - loss: 2.0065 - acc: 0.1591 - val_loss: 2.0153 - val_acc: 0.1369\n",
      "Epoch 43/100\n",
      "4620/4620 [==============================] - 0s 66us/step - loss: 2.0064 - acc: 0.1647 - val_loss: 2.0154 - val_acc: 0.1369\n",
      "Epoch 44/100\n",
      "4620/4620 [==============================] - 0s 89us/step - loss: 2.0065 - acc: 0.1643 - val_loss: 2.0154 - val_acc: 0.1369\n",
      "Epoch 45/100\n",
      "4620/4620 [==============================] - 0s 65us/step - loss: 2.0065 - acc: 0.1667 - val_loss: 2.0158 - val_acc: 0.1369\n",
      "Epoch 46/100\n",
      "4620/4620 [==============================] - 0s 76us/step - loss: 2.0065 - acc: 0.1667 - val_loss: 2.0154 - val_acc: 0.1369\n",
      "Epoch 47/100\n",
      "4620/4620 [==============================] - 0s 76us/step - loss: 2.0065 - acc: 0.1667 - val_loss: 2.0153 - val_acc: 0.1369\n",
      "Epoch 48/100\n",
      "4620/4620 [==============================] - 0s 61us/step - loss: 2.0065 - acc: 0.1667 - val_loss: 2.0152 - val_acc: 0.1369\n",
      "Epoch 49/100\n",
      "4620/4620 [==============================] - 0s 60us/step - loss: 2.0065 - acc: 0.1667 - val_loss: 2.0152 - val_acc: 0.1369\n",
      "Epoch 50/100\n",
      "4620/4620 [==============================] - 0s 62us/step - loss: 2.0064 - acc: 0.1667 - val_loss: 2.0151 - val_acc: 0.1369\n",
      "Epoch 51/100\n",
      "4620/4620 [==============================] - 0s 61us/step - loss: 2.0065 - acc: 0.1667 - val_loss: 2.0153 - val_acc: 0.1369\n",
      "Epoch 52/100\n",
      "4620/4620 [==============================] - 0s 82us/step - loss: 2.0065 - acc: 0.1667 - val_loss: 2.0153 - val_acc: 0.1369\n",
      "Epoch 53/100\n",
      "4620/4620 [==============================] - 0s 73us/step - loss: 2.0065 - acc: 0.1617 - val_loss: 2.0156 - val_acc: 0.1369\n",
      "Epoch 54/100\n",
      "4620/4620 [==============================] - 0s 73us/step - loss: 2.0065 - acc: 0.1667 - val_loss: 2.0153 - val_acc: 0.1369\n",
      "Epoch 55/100\n",
      "4620/4620 [==============================] - 0s 59us/step - loss: 2.0064 - acc: 0.1667 - val_loss: 2.0152 - val_acc: 0.1369\n",
      "Epoch 56/100\n",
      "4620/4620 [==============================] - 0s 61us/step - loss: 2.0064 - acc: 0.1667 - val_loss: 2.0152 - val_acc: 0.1369\n",
      "Epoch 57/100\n",
      "4620/4620 [==============================] - 0s 70us/step - loss: 2.0064 - acc: 0.1667 - val_loss: 2.0152 - val_acc: 0.1369\n",
      "Epoch 58/100\n",
      "4620/4620 [==============================] - 0s 64us/step - loss: 2.0065 - acc: 0.1656 - val_loss: 2.0150 - val_acc: 0.1369\n",
      "Epoch 59/100\n",
      "4620/4620 [==============================] - 0s 60us/step - loss: 2.0065 - acc: 0.1667 - val_loss: 2.0153 - val_acc: 0.1369\n",
      "Epoch 60/100\n",
      "4620/4620 [==============================] - 0s 75us/step - loss: 2.0065 - acc: 0.1667 - val_loss: 2.0154 - val_acc: 0.1369\n",
      "Epoch 61/100\n",
      "4620/4620 [==============================] - 0s 55us/step - loss: 2.0064 - acc: 0.1619 - val_loss: 2.0155 - val_acc: 0.1369\n",
      "Epoch 62/100\n",
      "4620/4620 [==============================] - 0s 71us/step - loss: 2.0065 - acc: 0.1667 - val_loss: 2.0154 - val_acc: 0.1369\n",
      "Epoch 63/100\n",
      "4620/4620 [==============================] - 0s 58us/step - loss: 2.0065 - acc: 0.1667 - val_loss: 2.0154 - val_acc: 0.1369\n",
      "Epoch 64/100\n",
      "4620/4620 [==============================] - 0s 72us/step - loss: 2.0065 - acc: 0.1667 - val_loss: 2.0153 - val_acc: 0.1369\n",
      "Epoch 65/100\n",
      "4620/4620 [==============================] - 0s 59us/step - loss: 2.0064 - acc: 0.1667 - val_loss: 2.0155 - val_acc: 0.1369\n",
      "Epoch 66/100\n",
      "4620/4620 [==============================] - 0s 61us/step - loss: 2.0065 - acc: 0.1617 - val_loss: 2.0153 - val_acc: 0.1369\n",
      "Epoch 67/100\n",
      "4620/4620 [==============================] - 0s 67us/step - loss: 2.0065 - acc: 0.1667 - val_loss: 2.0155 - val_acc: 0.1369\n",
      "Epoch 68/100\n",
      "4620/4620 [==============================] - 0s 76us/step - loss: 2.0065 - acc: 0.1667 - val_loss: 2.0153 - val_acc: 0.1369\n",
      "Epoch 69/100\n",
      "4620/4620 [==============================] - 0s 67us/step - loss: 2.0065 - acc: 0.1667 - val_loss: 2.0154 - val_acc: 0.1369\n",
      "Epoch 70/100\n",
      "4620/4620 [==============================] - 0s 75us/step - loss: 2.0064 - acc: 0.1667 - val_loss: 2.0154 - val_acc: 0.1369\n",
      "Epoch 71/100\n",
      "4620/4620 [==============================] - 0s 65us/step - loss: 2.0065 - acc: 0.1667 - val_loss: 2.0152 - val_acc: 0.1369\n",
      "Epoch 72/100\n",
      "4620/4620 [==============================] - 0s 58us/step - loss: 2.0066 - acc: 0.1667 - val_loss: 2.0152 - val_acc: 0.1369\n",
      "Epoch 73/100\n",
      "4620/4620 [==============================] - 0s 76us/step - loss: 2.0065 - acc: 0.1667 - val_loss: 2.0154 - val_acc: 0.1369\n",
      "Epoch 74/100\n",
      "4620/4620 [==============================] - 0s 59us/step - loss: 2.0064 - acc: 0.1667 - val_loss: 2.0154 - val_acc: 0.1369\n",
      "Epoch 75/100\n",
      "4620/4620 [==============================] - 0s 60us/step - loss: 2.0064 - acc: 0.1667 - val_loss: 2.0153 - val_acc: 0.1369\n",
      "Epoch 76/100\n",
      "4620/4620 [==============================] - 0s 75us/step - loss: 2.0065 - acc: 0.1667 - val_loss: 2.0154 - val_acc: 0.1369\n",
      "Epoch 77/100\n",
      "4620/4620 [==============================] - 0s 58us/step - loss: 2.0065 - acc: 0.1667 - val_loss: 2.0153 - val_acc: 0.1369\n",
      "Epoch 78/100\n",
      "4620/4620 [==============================] - 0s 76us/step - loss: 2.0065 - acc: 0.1667 - val_loss: 2.0151 - val_acc: 0.1369\n",
      "Epoch 79/100\n",
      "4620/4620 [==============================] - 0s 57us/step - loss: 2.0064 - acc: 0.1667 - val_loss: 2.0149 - val_acc: 0.1369\n",
      "Epoch 80/100\n",
      "4620/4620 [==============================] - 0s 58us/step - loss: 2.0065 - acc: 0.1667 - val_loss: 2.0149 - val_acc: 0.1369\n",
      "Epoch 81/100\n",
      "4620/4620 [==============================] - 0s 64us/step - loss: 2.0065 - acc: 0.1667 - val_loss: 2.0153 - val_acc: 0.1369\n",
      "Epoch 82/100\n",
      "4620/4620 [==============================] - 0s 58us/step - loss: 2.0064 - acc: 0.1667 - val_loss: 2.0152 - val_acc: 0.1369\n",
      "Epoch 83/100\n",
      "4620/4620 [==============================] - 0s 67us/step - loss: 2.0065 - acc: 0.1667 - val_loss: 2.0149 - val_acc: 0.1369\n",
      "Epoch 84/100\n",
      "4620/4620 [==============================] - 0s 72us/step - loss: 2.0065 - acc: 0.1667 - val_loss: 2.0150 - val_acc: 0.1369\n",
      "Epoch 85/100\n",
      "4620/4620 [==============================] - 0s 62us/step - loss: 2.0064 - acc: 0.1667 - val_loss: 2.0152 - val_acc: 0.1369\n",
      "Epoch 86/100\n",
      "4620/4620 [==============================] - 0s 70us/step - loss: 2.0065 - acc: 0.1667 - val_loss: 2.0153 - val_acc: 0.1369\n",
      "Epoch 87/100\n",
      "4620/4620 [==============================] - 0s 74us/step - loss: 2.0064 - acc: 0.1667 - val_loss: 2.0151 - val_acc: 0.1369\n",
      "Epoch 88/100\n",
      "4620/4620 [==============================] - 0s 80us/step - loss: 2.0065 - acc: 0.1600 - val_loss: 2.0152 - val_acc: 0.1369\n",
      "Epoch 89/100\n",
      "4620/4620 [==============================] - 0s 83us/step - loss: 2.0065 - acc: 0.1630 - val_loss: 2.0151 - val_acc: 0.1369\n",
      "Epoch 90/100\n",
      "4620/4620 [==============================] - 0s 79us/step - loss: 2.0065 - acc: 0.1667 - val_loss: 2.0154 - val_acc: 0.1369\n",
      "Epoch 91/100\n",
      "4620/4620 [==============================] - 0s 59us/step - loss: 2.0064 - acc: 0.1667 - val_loss: 2.0153 - val_acc: 0.1369\n",
      "Epoch 92/100\n",
      "4620/4620 [==============================] - 0s 54us/step - loss: 2.0064 - acc: 0.1667 - val_loss: 2.0152 - val_acc: 0.1369\n",
      "Epoch 93/100\n",
      "4620/4620 [==============================] - 0s 65us/step - loss: 2.0065 - acc: 0.1615 - val_loss: 2.0154 - val_acc: 0.1369\n",
      "Epoch 94/100\n",
      "4620/4620 [==============================] - 0s 67us/step - loss: 2.0065 - acc: 0.1667 - val_loss: 2.0155 - val_acc: 0.1369\n",
      "Epoch 95/100\n",
      "4620/4620 [==============================] - 0s 73us/step - loss: 2.0065 - acc: 0.1667 - val_loss: 2.0154 - val_acc: 0.1369\n",
      "Epoch 96/100\n",
      "4620/4620 [==============================] - 0s 62us/step - loss: 2.0065 - acc: 0.1619 - val_loss: 2.0153 - val_acc: 0.1369\n",
      "Epoch 97/100\n",
      "4620/4620 [==============================] - 0s 74us/step - loss: 2.0064 - acc: 0.1617 - val_loss: 2.0155 - val_acc: 0.1369\n",
      "Epoch 98/100\n",
      "4620/4620 [==============================] - 0s 59us/step - loss: 2.0065 - acc: 0.1667 - val_loss: 2.0153 - val_acc: 0.1369\n",
      "Epoch 99/100\n",
      "4620/4620 [==============================] - 0s 70us/step - loss: 2.0065 - acc: 0.1667 - val_loss: 2.0152 - val_acc: 0.1369\n",
      "Epoch 100/100\n",
      "4620/4620 [==============================] - 0s 77us/step - loss: 2.0064 - acc: 0.1667 - val_loss: 2.0151 - val_acc: 0.1369\n"
     ]
    }
   ],
   "source": [
    "classifier = model.fit(X_train, y_train, batch_size=32, epochs=100, validation_data=(X_test, y_test))"
   ]
  },
  {
   "cell_type": "code",
   "execution_count": 31,
   "metadata": {},
   "outputs": [
    {
     "data": {
      "image/png": "[encoded data removed]",
      "text/plain": [
       "<Figure size 432x288 with 1 Axes>"
      ]
     },
     "metadata": {
      "needs_background": "light"
     },
     "output_type": "display_data"
    },
    {
     "data": {
      "image/png": "[encoded data removed]",
      "text/plain": [
       "<Figure size 432x288 with 1 Axes>"
      ]
     },
     "metadata": {
      "needs_background": "light"
     },
     "output_type": "display_data"
    }
   ],
   "source": [
    "utils.model_curves(classifier)"
   ]
  },
  {
   "cell_type": "code",
   "execution_count": 32,
   "metadata": {},
   "outputs": [
    {
     "name": "stdout",
     "output_type": "stream",
     "text": [
      "1680/1680 [==============================] - 0s 24us/step\n",
      "Score : 13.69%\n"
     ]
    }
   ],
   "source": [
    "scores = model.evaluate(X_test, y_test)\n",
    "print(\"Score : %.2f%%\" % (scores[1]*100))"
   ]
  },
  {
   "cell_type": "code",
   "execution_count": null,
   "metadata": {},
   "outputs": [],
   "source": []
  }
 ],
 "metadata": {
  "kernelspec": {
   "display_name": "Python 3",
   "language": "python",
   "name": "python3"
  },
  "language_info": {
   "codemirror_mode": {
    "name": "ipython",
    "version": 3
   },
   "file_extension": ".py",
   "mimetype": "text/x-python",
   "name": "python",
   "nbconvert_exporter": "python",
   "pygments_lexer": "ipython3",
   "version": "3.6.6"
  }
 },
 "nbformat": 4,
 "nbformat_minor": 2
}
